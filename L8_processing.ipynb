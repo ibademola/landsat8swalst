{
 "cells": [
  {
   "cell_type": "code",
   "execution_count": 5,
   "id": "28c52e53",
   "metadata": {},
   "outputs": [],
   "source": [
    "import os\n",
    "import zipfile"
   ]
  },
  {
   "cell_type": "code",
   "execution_count": 7,
   "id": "8a87c9a8",
   "metadata": {},
   "outputs": [],
   "source": [
    "import os\n",
    "import tarfile\n",
    "\n",
    "# Replace 'path_to_input_folder' with the actual path to the folder containing the .tar files\n",
    "input_folder = r\"C:\\Users\\NimeshaJ\\Code\\L8\"\n",
    "# Replace 'path_to_output_folder' with the desired path where the extracted data should be saved\n",
    "output_folder = r\"C:\\Users\\NimeshaJ\\Code\\L8p\"\n",
    "\n",
    "# Create the output folder if it doesn't exist\n",
    "os.makedirs(output_folder, exist_ok=True)\n",
    "\n",
    "# Get a list of all files in the input folder\n",
    "file_list = os.listdir(input_folder)\n",
    "\n",
    "# Loop through each file in the input folder\n",
    "for file_name in file_list:\n",
    "    # Check if the file is a .tar file\n",
    "    if file_name.endswith('.tar'):\n",
    "        tar_file_path = os.path.join(input_folder, file_name)\n",
    "        \n",
    "        # Create a subfolder with the same name as the .tar file (without the .tar extension)\n",
    "        subfolder_name = os.path.splitext(file_name)[0]\n",
    "        output_subfolder = os.path.join(output_folder, subfolder_name)\n",
    "        os.makedirs(output_subfolder, exist_ok=True)\n",
    "        \n",
    "        # Extract the contents of the .tar file to the subfolder\n",
    "        with tarfile.open(tar_file_path, 'r') as tar_ref:\n",
    "            tar_ref.extractall(output_subfolder)"
   ]
  },
  {
   "cell_type": "code",
   "execution_count": 12,
   "id": "4487fada",
   "metadata": {},
   "outputs": [
    {
     "name": "stdout",
     "output_type": "stream",
     "text": [
      "Collecting geopandas\n",
      "  Downloading geopandas-0.13.2-py3-none-any.whl (1.1 MB)\n",
      "                                              0.0/1.1 MB ? eta -:--:--\n",
      "                                              0.0/1.1 MB ? eta -:--:--\n",
      "     -                                        0.0/1.1 MB 330.3 kB/s eta 0:00:04\n",
      "     --                                       0.1/1.1 MB 469.7 kB/s eta 0:00:03\n",
      "     ----------------------------             0.8/1.1 MB 4.2 MB/s eta 0:00:01\n",
      "     ---------------------------------------  1.1/1.1 MB 5.3 MB/s eta 0:00:01\n",
      "     ---------------------------------------- 1.1/1.1 MB 4.1 MB/s eta 0:00:00\n",
      "Collecting fiona>=1.8.19 (from geopandas)\n",
      "  Downloading Fiona-1.9.4.post1-cp310-cp310-win_amd64.whl (22.7 MB)\n",
      "                                              0.0/22.7 MB ? eta -:--:--\n",
      "     --                                       1.4/22.7 MB 30.9 MB/s eta 0:00:01\n",
      "     ----                                     2.5/22.7 MB 31.6 MB/s eta 0:00:01\n",
      "     ----                                     2.5/22.7 MB 31.6 MB/s eta 0:00:01\n",
      "     -----                                    3.0/22.7 MB 15.9 MB/s eta 0:00:02\n",
      "     --------                                 4.8/22.7 MB 20.3 MB/s eta 0:00:01\n",
      "     -----------                              6.3/22.7 MB 23.7 MB/s eta 0:00:01\n",
      "     -----------                              6.3/22.7 MB 23.7 MB/s eta 0:00:01\n",
      "     -------------                            7.7/22.7 MB 20.6 MB/s eta 0:00:01\n",
      "     ----------------                         9.2/22.7 MB 21.7 MB/s eta 0:00:01\n",
      "     -----------------                       10.0/22.7 MB 21.9 MB/s eta 0:00:01\n",
      "     -----------------                       10.2/22.7 MB 19.9 MB/s eta 0:00:01\n",
      "     -------------------                     11.3/22.7 MB 19.3 MB/s eta 0:00:01\n",
      "     ---------------------                   12.4/22.7 MB 18.7 MB/s eta 0:00:01\n",
      "     -----------------------                 13.5/22.7 MB 23.4 MB/s eta 0:00:01\n",
      "     -------------------------               14.6/22.7 MB 21.1 MB/s eta 0:00:01\n",
      "     ---------------------------             16.1/22.7 MB 21.1 MB/s eta 0:00:01\n",
      "     -----------------------------           16.9/22.7 MB 24.2 MB/s eta 0:00:01\n",
      "     ------------------------------          17.5/22.7 MB 21.1 MB/s eta 0:00:01\n",
      "     ---------------------------------       19.4/22.7 MB 21.8 MB/s eta 0:00:01\n",
      "     -----------------------------------     20.7/22.7 MB 26.2 MB/s eta 0:00:01\n",
      "     -----------------------------------     20.7/22.7 MB 26.2 MB/s eta 0:00:01\n",
      "     -------------------------------------   21.5/22.7 MB 21.8 MB/s eta 0:00:01\n",
      "     --------------------------------------  22.7/22.7 MB 23.4 MB/s eta 0:00:01\n",
      "     --------------------------------------  22.7/22.7 MB 23.4 MB/s eta 0:00:01\n",
      "     --------------------------------------  22.7/22.7 MB 23.4 MB/s eta 0:00:01\n",
      "     --------------------------------------  22.7/22.7 MB 23.4 MB/s eta 0:00:01\n",
      "     --------------------------------------  22.7/22.7 MB 23.4 MB/s eta 0:00:01\n",
      "     --------------------------------------  22.7/22.7 MB 23.4 MB/s eta 0:00:01\n",
      "     --------------------------------------  22.7/22.7 MB 23.4 MB/s eta 0:00:01\n",
      "     --------------------------------------  22.7/22.7 MB 23.4 MB/s eta 0:00:01\n",
      "     --------------------------------------- 22.7/22.7 MB 12.6 MB/s eta 0:00:00\n",
      "Requirement already satisfied: packaging in c:\\users\\nimeshaj\\anaconda3\\envs\\processdata\\lib\\site-packages (from geopandas) (23.0)\n",
      "Collecting pandas>=1.1.0 (from geopandas)\n",
      "  Downloading pandas-2.0.3-cp310-cp310-win_amd64.whl (10.7 MB)\n",
      "                                              0.0/10.7 MB ? eta -:--:--\n",
      "     -------                                  2.0/10.7 MB 41.6 MB/s eta 0:00:01\n",
      "     -----------                              2.9/10.7 MB 47.4 MB/s eta 0:00:01\n",
      "     -----------                              2.9/10.7 MB 47.4 MB/s eta 0:00:01\n",
      "     ---------------                          4.1/10.7 MB 22.1 MB/s eta 0:00:01\n",
      "     -----------------------                  6.2/10.7 MB 26.5 MB/s eta 0:00:01\n",
      "     --------------------------               7.0/10.7 MB 27.8 MB/s eta 0:00:01\n",
      "     ---------------------------              7.4/10.7 MB 22.5 MB/s eta 0:00:01\n",
      "     ----------------------------------       9.2/10.7 MB 24.6 MB/s eta 0:00:01\n",
      "     --------------------------------------  10.7/10.7 MB 25.2 MB/s eta 0:00:01\n",
      "     --------------------------------------  10.7/10.7 MB 25.2 MB/s eta 0:00:01\n",
      "     --------------------------------------  10.7/10.7 MB 25.2 MB/s eta 0:00:01\n",
      "     --------------------------------------  10.7/10.7 MB 25.2 MB/s eta 0:00:01\n",
      "     --------------------------------------- 10.7/10.7 MB 17.7 MB/s eta 0:00:00\n",
      "Collecting pyproj>=3.0.1 (from geopandas)\n",
      "  Downloading pyproj-3.6.0-cp310-cp310-win_amd64.whl (5.7 MB)\n",
      "                                              0.0/5.7 MB ? eta -:--:--\n",
      "     -------                                  1.1/5.7 MB 23.3 MB/s eta 0:00:01\n",
      "     --------------------                     3.0/5.7 MB 37.9 MB/s eta 0:00:01\n",
      "     --------------------                     3.0/5.7 MB 37.9 MB/s eta 0:00:01\n",
      "     ----------------------                   3.3/5.7 MB 17.5 MB/s eta 0:00:01\n",
      "     -------------------------------------    5.4/5.7 MB 23.0 MB/s eta 0:00:01\n",
      "     ---------------------------------------  5.7/5.7 MB 24.5 MB/s eta 0:00:01\n",
      "     ---------------------------------------  5.7/5.7 MB 24.5 MB/s eta 0:00:01\n",
      "     ---------------------------------------- 5.7/5.7 MB 15.3 MB/s eta 0:00:00\n",
      "Collecting shapely>=1.7.1 (from geopandas)\n",
      "  Downloading shapely-2.0.1-cp310-cp310-win_amd64.whl (1.4 MB)\n",
      "                                              0.0/1.4 MB ? eta -:--:--\n",
      "     --------------------------------------   1.3/1.4 MB 27.7 MB/s eta 0:00:01\n",
      "     ---------------------------------------  1.4/1.4 MB 28.8 MB/s eta 0:00:01\n",
      "     ---------------------------------------- 1.4/1.4 MB 10.8 MB/s eta 0:00:00\n",
      "Requirement already satisfied: attrs>=19.2.0 in c:\\users\\nimeshaj\\anaconda3\\envs\\processdata\\lib\\site-packages (from fiona>=1.8.19->geopandas) (22.1.0)\n",
      "Requirement already satisfied: certifi in c:\\users\\nimeshaj\\anaconda3\\envs\\processdata\\lib\\site-packages (from fiona>=1.8.19->geopandas) (2023.7.22)\n",
      "Requirement already satisfied: click~=8.0 in c:\\users\\nimeshaj\\anaconda3\\envs\\processdata\\lib\\site-packages (from fiona>=1.8.19->geopandas) (8.1.6)\n",
      "Requirement already satisfied: click-plugins>=1.0 in c:\\users\\nimeshaj\\anaconda3\\envs\\processdata\\lib\\site-packages (from fiona>=1.8.19->geopandas) (1.1.1)\n",
      "Requirement already satisfied: cligj>=0.5 in c:\\users\\nimeshaj\\anaconda3\\envs\\processdata\\lib\\site-packages (from fiona>=1.8.19->geopandas) (0.7.2)\n",
      "Requirement already satisfied: six in c:\\users\\nimeshaj\\anaconda3\\envs\\processdata\\lib\\site-packages (from fiona>=1.8.19->geopandas) (1.16.0)\n",
      "Requirement already satisfied: python-dateutil>=2.8.2 in c:\\users\\nimeshaj\\anaconda3\\envs\\processdata\\lib\\site-packages (from pandas>=1.1.0->geopandas) (2.8.2)\n",
      "Collecting pytz>=2020.1 (from pandas>=1.1.0->geopandas)\n",
      "  Downloading pytz-2023.3-py2.py3-none-any.whl (502 kB)\n",
      "                                              0.0/502.3 kB ? eta -:--:--\n",
      "     ------------------------------------- 502.3/502.3 kB 10.7 MB/s eta 0:00:00\n",
      "Collecting tzdata>=2022.1 (from pandas>=1.1.0->geopandas)\n",
      "  Using cached tzdata-2023.3-py2.py3-none-any.whl (341 kB)\n",
      "Requirement already satisfied: numpy>=1.21.0 in c:\\users\\nimeshaj\\anaconda3\\envs\\processdata\\lib\\site-packages (from pandas>=1.1.0->geopandas) (1.25.1)\n",
      "Requirement already satisfied: colorama in c:\\users\\nimeshaj\\anaconda3\\envs\\processdata\\lib\\site-packages (from click~=8.0->fiona>=1.8.19->geopandas) (0.4.6)\n",
      "Installing collected packages: pytz, tzdata, shapely, pyproj, pandas, fiona, geopandas\n",
      "Successfully installed fiona-1.9.4.post1 geopandas-0.13.2 pandas-2.0.3 pyproj-3.6.0 pytz-2023.3 shapely-2.0.1 tzdata-2023.3\n"
     ]
    }
   ],
   "source": [
    "!pip install geopandas\n",
    "\n"
   ]
  },
  {
   "cell_type": "code",
   "execution_count": 13,
   "id": "5e376d5b",
   "metadata": {},
   "outputs": [],
   "source": [
    "import os\n",
    "import rasterio\n",
    "import geopandas as gpd\n",
    "import numpy as np\n",
    "from rasterio.mask import mask"
   ]
  },
  {
   "cell_type": "code",
   "execution_count": 14,
   "id": "fe60e360",
   "metadata": {},
   "outputs": [],
   "source": [
    "shapefile = gpd.read_file(r\"C:\\Ibrahim\\HongKongB.shp\")"
   ]
  },
  {
   "cell_type": "code",
   "execution_count": 17,
   "id": "fe0581fd",
   "metadata": {},
   "outputs": [
    {
     "data": {
      "text/plain": [
       "0    POLYGON ((791646.304 2453369.232, 791646.304 2...\n",
       "Name: geometry, dtype: geometry"
      ]
     },
     "execution_count": 17,
     "metadata": {},
     "output_type": "execute_result"
    }
   ],
   "source": [
    "shapefile.geometry"
   ]
  },
  {
   "cell_type": "code",
   "execution_count": 18,
   "id": "3b4a2a1b",
   "metadata": {},
   "outputs": [
    {
     "ename": "FileNotFoundError",
     "evalue": "[WinError 3] The system cannot find the path specified: 'path_to_directory'",
     "output_type": "error",
     "traceback": [
      "\u001b[1;31m---------------------------------------------------------------------------\u001b[0m",
      "\u001b[1;31mFileNotFoundError\u001b[0m                         Traceback (most recent call last)",
      "Cell \u001b[1;32mIn[18], line 46\u001b[0m\n\u001b[0;32m     43\u001b[0m shapefile_path \u001b[38;5;241m=\u001b[39m \u001b[38;5;124m'\u001b[39m\u001b[38;5;124mpath_to_shapefile.geojson\u001b[39m\u001b[38;5;124m'\u001b[39m\n\u001b[0;32m     45\u001b[0m \u001b[38;5;66;03m# Get a list of all folders in the specified directory\u001b[39;00m\n\u001b[1;32m---> 46\u001b[0m folder_list \u001b[38;5;241m=\u001b[39m \u001b[43mos\u001b[49m\u001b[38;5;241;43m.\u001b[39;49m\u001b[43mlistdir\u001b[49m\u001b[43m(\u001b[49m\u001b[43mdirectory_path\u001b[49m\u001b[43m)\u001b[49m\n\u001b[0;32m     48\u001b[0m \u001b[38;5;66;03m# Process each Landsat folder one by one\u001b[39;00m\n\u001b[0;32m     49\u001b[0m \u001b[38;5;28;01mfor\u001b[39;00m folder_name \u001b[38;5;129;01min\u001b[39;00m folder_list:\n",
      "\u001b[1;31mFileNotFoundError\u001b[0m: [WinError 3] The system cannot find the path specified: 'path_to_directory'"
     ]
    }
   ],
   "source": [
    "def process_landsat_folder(folder_path, shapefile_path, output_folder):\n",
    "    # Read the Landsat bands and perform cropping and LST estimation for a single folder\n",
    "    # Replace the LST estimation part with your Split Window Algorithm implementatio\n",
    "\n",
    "    # Get a list of all files in the Landsat folder\n",
    "    file_list = os.listdir(folder_path)\n",
    "\n",
    "    # Read the shapefile using geopandas\n",
    "    shapefile = gpd.read_file(shapefile_path)\n",
    "\n",
    "    # Loop through each file in the Landsat folder\n",
    "    for file_name in file_list:\n",
    "        # Check if the file is a GeoTIFF (band file)\n",
    "        if file_name.endswith('.tif'):\n",
    "            tif_file_path = os.path.join(folder_path, file_name)\n",
    "            \n",
    "            # Read the band file using rasterio\n",
    "            with rasterio.open(tif_file_path) as src:\n",
    "                # Get the band number from the file name\n",
    "                band_number = int(file_name.split('_')[-1].split('.')[0])\n",
    "\n",
    "                # Check if the band is 3, 4, 10, or 11\n",
    "                if band_number in [3, 4, 10, 11]:\n",
    "                    # Crop the band using the shapefile\n",
    "                    cropped_band, _ = mask(src, shapefile.geometry, crop=True, indexes=band_number)\n",
    "\n",
    "                    # Estimate LST (Replace this part with your Split Window Algorithm implementation)\n",
    "                    # For demonstration, we assume LST estimation is done as the mean of pixel values\n",
    "                    lst = np.mean(cropped_band)\n",
    "\n",
    "                    # Create a new file name for the LST output\n",
    "                    lst_output_file = file_name.replace(f\"_B{band_number}.tif\", \"_LST.tif\")\n",
    "                    lst_output_path = os.path.join(output_folder, lst_output_file)\n",
    "\n",
    "                    # Save the LST as a new GeoTIFF file\n",
    "                    with rasterio.open(lst_output_path, 'w', **src.meta) as dst:\n",
    "                        dst.write(lst, 1)\n",
    "\n",
    "if __name__ == \"__main__\":\n",
    "    # Replace 'path_to_directory' with the actual path to the directory containing Landsat 8 folders\n",
    "    directory_path = 'path_to_directory'\n",
    "    # Replace 'path_to_shapefile.geojson' with the path to your GeoJSON shapefile\n",
    "    shapefile_path = 'path_to_shapefile.geojson'\n",
    "    output_folder = r\"C:\\Users\\NimeshaJ\\Code\\LST\"\n",
    "\n",
    "    # Get a list of all folders in the specified directory\n",
    "    folder_list = os.listdir(directory_path)\n",
    "\n",
    "    # Process each Landsat folder one by one\n",
    "    for folder_name in folder_list:\n",
    "        folder_path = os.path.join(directory_path, folder_name)\n",
    "        process_landsat_folder(folder_path, shapefile_path)"
   ]
  },
  {
   "cell_type": "code",
   "execution_count": 19,
   "id": "cd1498b2",
   "metadata": {},
   "outputs": [],
   "source": [
    "def ndvi(b4,b5):\n",
    "    b4 = ((0.00002 * b4)- 0.1) / 0.786774820629\n",
    "    b5 = ((0.00002 * b5) - 0.1) / 0.786774820629\n",
    "    return float(b5-b4)/float(b5+b4)   "
   ]
  },
  {
   "cell_type": "code",
   "execution_count": null,
   "id": "a1d977c7",
   "metadata": {},
   "outputs": [],
   "source": [
    "def emm(ndvi,):\n",
    "    pv = ((ndvi - 2)/(0.5 - 0.2))**2\n",
    "    b10_emppp = (0.984 * pv) + 0.964 * (1 - pv) + (1 - 0.964) * (1 - pv) * 0.05 * 0.984\n",
    "    \n",
    "    #condition for estimating LSE band 10\n",
    "    condition_1 = ndvi < 0\n",
    "    result_1 = np.where(condition_1, 0.991, 0.0)  \n",
    "    # Second condition: (\"%ndviii%\" >= 0) & (\"%ndviii%\" < 0.2) -> True where ndviii is between 0 and 0.2\n",
    "    condition_2 = (ndvi >= 0) & (ndvi < 0.2)\n",
    "    result_2 = np.where(condition_2, 0.964, 0.0)  # Replace np.nan with 0.0 for False values\n",
    "\n",
    "    # Third condition: (\"%ndviii%\" >= 0.2) & (\"%ndviii%\" <= 0.5) -> True where ndviii is between 0.2 and 0.5\n",
    "    condition_3 = (ndvi >= 0.2) & (ndvi <= 0.5)\n",
    "    result_3 = np.where(condition_3, b10_emppp, 0.0)  # Replace np.nan with 0.0 for False values\n",
    "\n",
    "    # Fourth condition: (\"%ndviii%\" > 0.5) -> True where ndviii is greater than 0.5\n",
    "    condition_4 = ndvi > 0.5\n",
    "    result_4 = np.where(condition_4, 0.984, 0.0)  # Replace np.nan with 0.0 for False values\n",
    "\n",
    "    # Combine the results using np.nanmean, which calculates the mean while ignoring 0.0 values (False values)\n",
    "    b10_em = np.nanmean([result_1, result_2, result_3, result_4], axis=0)\n",
    "    b11_empp = (0.)"
   ]
  }
 ],
 "metadata": {
  "kernelspec": {
   "display_name": "Python 3 (ipykernel)",
   "language": "python",
   "name": "python3"
  },
  "language_info": {
   "codemirror_mode": {
    "name": "ipython",
    "version": 3
   },
   "file_extension": ".py",
   "mimetype": "text/x-python",
   "name": "python",
   "nbconvert_exporter": "python",
   "pygments_lexer": "ipython3",
   "version": "3.10.12"
  }
 },
 "nbformat": 4,
 "nbformat_minor": 5
}
